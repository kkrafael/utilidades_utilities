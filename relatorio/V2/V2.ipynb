{
 "cells": [
  {
   "cell_type": "code",
   "execution_count": 1,
   "id": "46a45312",
   "metadata": {},
   "outputs": [],
   "source": [
    "from teste import Relatorio"
   ]
  },
  {
   "cell_type": "code",
   "execution_count": 2,
   "id": "5f98f96d",
   "metadata": {},
   "outputs": [],
   "source": [
    "projeto_a = 'A'\n",
    "projeto_b = ''"
   ]
  },
  {
   "cell_type": "code",
   "execution_count": 3,
   "id": "9a119517",
   "metadata": {},
   "outputs": [],
   "source": [
    "x = Relatorio(projeto_a, projeto_b)"
   ]
  },
  {
   "cell_type": "code",
   "execution_count": 4,
   "id": "ba7c652f",
   "metadata": {},
   "outputs": [],
   "source": [
    "a = x.gera_relatorio()"
   ]
  },
  {
   "cell_type": "code",
   "execution_count": 5,
   "id": "4648cfeb",
   "metadata": {},
   "outputs": [
    {
     "name": "stdout",
     "output_type": "stream",
     "text": [
      "\n",
      "    Bom dia,\n",
      "\n",
      "    Relatório do dia 2024-05-28\n",
      "\n",
      "    Projeto a \n",
      "    Processos que falharam: A\n",
      "\n",
      "    Projeto b ✅\n",
      "    \n",
      "\n",
      "    \n",
      "    Ja estamos analisando o(s) erro(s)\n",
      "\n",
      "            \n"
     ]
    }
   ],
   "source": [
    "print(a)"
   ]
  }
 ],
 "metadata": {
  "kernelspec": {
   "display_name": "Python 3 (ipykernel)",
   "language": "python",
   "name": "python3"
  },
  "language_info": {
   "codemirror_mode": {
    "name": "ipython",
    "version": 3
   },
   "file_extension": ".py",
   "mimetype": "text/x-python",
   "name": "python",
   "nbconvert_exporter": "python",
   "pygments_lexer": "ipython3",
   "version": "3.9.12"
  }
 },
 "nbformat": 4,
 "nbformat_minor": 5
}
