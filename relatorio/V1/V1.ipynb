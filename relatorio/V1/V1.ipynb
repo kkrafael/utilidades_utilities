{
 "cells": [
  {
   "cell_type": "code",
   "execution_count": 1,
   "id": "8d01943e",
   "metadata": {},
   "outputs": [],
   "source": [
    "from datetime import date "
   ]
  },
  {
   "cell_type": "code",
   "execution_count": 2,
   "id": "d1b74998",
   "metadata": {},
   "outputs": [
    {
     "name": "stdout",
     "output_type": "stream",
     "text": [
      "2024-05-27\n"
     ]
    }
   ],
   "source": [
    "today = date.today()\n",
    "print(today)"
   ]
  },
  {
   "cell_type": "code",
   "execution_count": 3,
   "id": "543fc483",
   "metadata": {},
   "outputs": [],
   "source": [
    "projeto_a = ''\n",
    "projeto_b = ''\n",
    "projeto_c = ''"
   ]
  },
  {
   "cell_type": "code",
   "execution_count": 4,
   "id": "c71eb2a9",
   "metadata": {},
   "outputs": [],
   "source": [
    "#projeto_a\n",
    "if projeto_a != '':\n",
    "    ok_a = ''\n",
    "    n_a = '\\n'\n",
    "    falha_a = 'Processos que falharam: '\n",
    "else:\n",
    "    ok_a = '✅'\n",
    "    n_a = ''\n",
    "    falha_a = ''\n",
    "\n",
    "#projeto_b\n",
    "if projeto_b != '':\n",
    "    ok_b = ''\n",
    "    n_b = '\\n'\n",
    "    falha_b = 'Processos que falharam: '\n",
    "else:\n",
    "    ok_b = '✅'\n",
    "    n_b = ''\n",
    "    falha_b = ''\n",
    "    \n",
    "#projeto_c\n",
    "if projeto_c != '':\n",
    "    ok_c = ''\n",
    "    n_c = '\\n'\n",
    "    falha_c = 'Processos que falharam: '\n",
    "else:\n",
    "    ok_c = '✅'\n",
    "    n_c = ''\n",
    "    falha_c = ''"
   ]
  },
  {
   "cell_type": "code",
   "execution_count": 5,
   "id": "e2826b3b",
   "metadata": {},
   "outputs": [],
   "source": [
    "# valida erro\n",
    "if projeto_a != '' or projeto_b != '' or projeto_c != '':\n",
    "    error = 'Ja estamos analisando o(s) erro(s)'\n",
    "else:\n",
    "    error = ''"
   ]
  },
  {
   "cell_type": "code",
   "execution_count": 6,
   "id": "076fb82d",
   "metadata": {},
   "outputs": [],
   "source": [
    "\n",
    "texto = f'''\n",
    "Bom dia,\n",
    "\n",
    "Relatório do dia {today}\n",
    "\n",
    "Projeto a {ok_a}\n",
    "{falha_a} {projeto_a} {n_a}\n",
    "Projeto b {ok_b}\n",
    "{falha_b} {projeto_b} {n_b}\n",
    "Projeto c {ok_c}\n",
    "{falha_c} {projeto_c} {n_c}\n",
    "\n",
    "{error}\n",
    "\n",
    "'''\n"
   ]
  },
  {
   "cell_type": "code",
   "execution_count": 7,
   "id": "84d84ab6",
   "metadata": {},
   "outputs": [
    {
     "name": "stdout",
     "output_type": "stream",
     "text": [
      "\n",
      "Bom dia,\n",
      "\n",
      "Relatório do dia 2024-05-27\n",
      "\n",
      "projeto a ✅\n",
      "  \n",
      "projeto b ✅\n",
      "  \n",
      "projeto c ✅\n",
      "  \n",
      "\n",
      "\n",
      "\n",
      "\n"
     ]
    }
   ],
   "source": [
    "print(texto)"
   ]
  }
 ],
 "metadata": {
  "kernelspec": {
   "display_name": "Python 3 (ipykernel)",
   "language": "python",
   "name": "python3"
  },
  "language_info": {
   "codemirror_mode": {
    "name": "ipython",
    "version": 3
   },
   "file_extension": ".py",
   "mimetype": "text/x-python",
   "name": "python",
   "nbconvert_exporter": "python",
   "pygments_lexer": "ipython3",
   "version": "3.9.12"
  }
 },
 "nbformat": 4,
 "nbformat_minor": 5
}
