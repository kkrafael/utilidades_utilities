{
 "cells": [
  {
   "cell_type": "code",
   "execution_count": 1,
   "id": "f4d4bbb4",
   "metadata": {},
   "outputs": [],
   "source": [
    "pip install psycopg2\n",
    "pip install pandas\n",
    "pip install sqlalchemy"
   ]
  },
  {
   "cell_type": "code",
   "execution_count": 2,
   "id": "e3183b9c",
   "metadata": {},
   "outputs": [],
   "source": [
    "import pandas as pd\n",
    "from sqlalchemy import create_engine"
   ]
  },
  {
   "cell_type": "code",
   "execution_count": 3,
   "id": "333f9873",
   "metadata": {},
   "outputs": [],
   "source": [
    "# database parameters\n",
    "database = \"\"\n",
    "user = \"\"\n",
    "host= \"\"\n",
    "password = \"\"\n",
    "port = 1234"
   ]
  },
  {
   "cell_type": "code",
   "execution_count": 4,
   "id": "92c59489",
   "metadata": {},
   "outputs": [],
   "source": [
    "#path, name and format of the file\n",
    "caminho = 'path'\n",
    "nome = 'name'\n",
    "formato = 'format'"
   ]
  },
  {
   "cell_type": "code",
   "execution_count": 5,
   "id": "5f04450b",
   "metadata": {},
   "outputs": [],
   "source": [
    "with create_engine(f'postgresql://{user}:{password}@{host}:{port}/{database}').connect() as connection:\n",
    "    df = pd.read_excel(f'{caminho}{nome}{formato}')\n",
    "    \n",
    "    df.to_sql(f'{nome}', connection, if_exists='replace', index=False)"
   ]
  }
 ],
 "metadata": {
  "kernelspec": {
   "display_name": "Python 3 (ipykernel)",
   "language": "python",
   "name": "python3"
  },
  "language_info": {
   "codemirror_mode": {
    "name": "ipython",
    "version": 3
   },
   "file_extension": ".py",
   "mimetype": "text/x-python",
   "name": "python",
   "nbconvert_exporter": "python",
   "pygments_lexer": "ipython3",
   "version": "3.9.12"
  }
 },
 "nbformat": 4,
 "nbformat_minor": 5
}
